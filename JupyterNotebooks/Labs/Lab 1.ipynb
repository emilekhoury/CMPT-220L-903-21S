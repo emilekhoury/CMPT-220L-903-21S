{
 "cells": [
  {
   "cell_type": "code",
   "execution_count": null,
   "metadata": {},
   "outputs": [],
   "source": [
    "# Lab One\n",
    "---\n",
    "\n",
    "Ok for this lab we're going to reiterate a lot of the things that we went over in class.\n",
    "\n",
    "Our Goals are:\n",
    "- Binary Math\n",
    "- Defining Variables\n",
    "    - Primitive Types\n",
    "    - Reference Types\n",
    "- Using Math\n",
    "- Manipulating Variables"
   ]
  },
  {
   "cell_type": "code",
   "execution_count": null,
   "metadata": {},
   "outputs": [],
   "source": [
    "For this section I just want you to type the answer. I know that you can just look this up but try and do the math. \n",
    "### What is 1000 in Decimal\n",
    "8\n",
    "\n",
    "### What is 1000 1001 in Decimal (This is a byte. It's just split for readability)\n",
    "128+0+0+0+8+0+0+1 = 137\n",
    "\n",
    "### What is 1010 1111 in Decimal (This is a byte. It's just split for readability)\n",
    "128+0+32+0+8+4+2+1 = 175\n",
    "\n",
    "### What is 0101 1010 in Decimal (This is a byte. It's just split for readability)\n",
    "0+64+0+16+8+0+2+0 = 90"
   ]
  },
  {
   "cell_type": "code",
   "execution_count": 2,
   "metadata": {},
   "outputs": [
    {
     "name": "stdout",
     "output_type": "stream",
     "text": [
      "true\n",
      "-1\n",
      "32000\n",
      "32000\n",
      "16\n",
      "84\n",
      "33.3\n",
      "99.4\n",
      "g\n"
     ]
    }
   ],
   "source": [
    "// Define 8 variables, one of each type listed: [boolean, byte, short, int, long, float, double, char]. Print all 8 of them.\n",
    "boolean myBool = true;\n",
    "byte myByte = -1;\n",
    "short myShort = 32000;\n",
    "int myInt = 16;\n",
    "long myLong = 84;\n",
    "float myFloat = 33.3f;\n",
    "double myDouble = 99.4;\n",
    "char myChar = 'g';\n",
    "\n",
    "System.out.println(myBool);\n",
    "System.out.println(myByte);\n",
    "System.out.println(myShort);\n",
    "System.out.println(myShort);\n",
    "System.out.println(myInt);\n",
    "System.out.println(myLong);\n",
    "System.out.println(myFloat);\n",
    "System.out.println(myDouble);\n",
    "System.out.println(myChar);\n",
    "\n",
    "\n",
    "\n",
    "\n",
    "\n"
   ]
  },
  {
   "cell_type": "code",
   "execution_count": null,
   "metadata": {},
   "outputs": [],
   "source": [
    "// Make me a list of any type\n"
   ]
  },
  {
   "cell_type": "code",
   "execution_count": null,
   "metadata": {},
   "outputs": [],
   "source": [
    "// With whatever variables you'd like demonstrate the following: [Addition, Subtraction, Division, Multiplication, Modulo]. Print all 5."
   ]
  },
  {
   "cell_type": "code",
   "execution_count": null,
   "metadata": {},
   "outputs": [],
   "source": [
    "// Using 2 variables and addition print the number 57"
   ]
  },
  {
   "cell_type": "code",
   "execution_count": null,
   "metadata": {},
   "outputs": [],
   "source": [
    "// Define a variable and print it out. Then alter the same variable and print it out. This can be through string concatenation or addition, etc."
   ]
  }
 ],
 "metadata": {
  "kernelspec": {
   "display_name": "Java",
   "language": "java",
   "name": "java"
  },
  "language_info": {
   "codemirror_mode": "java",
   "file_extension": ".jshell",
   "mimetype": "text/x-java-source",
   "name": "Java",
   "pygments_lexer": "java",
   "version": "15.0.2+7-27"
  }
 },
 "nbformat": 4,
 "nbformat_minor": 4
}