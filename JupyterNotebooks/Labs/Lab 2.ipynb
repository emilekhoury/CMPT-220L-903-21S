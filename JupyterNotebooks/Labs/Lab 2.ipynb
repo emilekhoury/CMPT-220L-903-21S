{
 "cells": [
  {
   "cell_type": "markdown",
   "metadata": {},
   "source": [
    "# Lab Two\n",
    "---\n",
    "\n",
    "Ok for this lab we're going to reiterate a lot of the things that we went over in class.\n",
    "\n",
    "Our Goals are:\n",
    "- Conditionals\n",
    "    - If\n",
    "    - Else\n",
    "    - Else If"
   ]
  },
  {
   "cell_type": "code",
   "execution_count": 15,
   "metadata": {},
   "outputs": [
    {
     "name": "stdout",
     "output_type": "stream",
     "text": [
      "nice\n"
     ]
    }
   ],
   "source": [
    "// Make an if statement\n",
    "\n",
    "\n",
    "if (true) {\n",
    "    System.out.println(\"nice\");\n",
    "}\n",
    "\n"
   ]
  },
  {
   "cell_type": "code",
   "execution_count": 16,
   "metadata": {},
   "outputs": [
    {
     "name": "stdout",
     "output_type": "stream",
     "text": [
      "not nice\n"
     ]
    }
   ],
   "source": [
    "// Make an if, else statement where the else statement triggers\n",
    "if (false) {\n",
    "\n",
    "    System.out.println(\"nice\");\n",
    "} else {\n",
    "    System.out.println(\"not nice\");\n",
    "    \n",
    "}"
   ]
  },
  {
   "cell_type": "code",
   "execution_count": 17,
   "metadata": {},
   "outputs": [
    {
     "name": "stdout",
     "output_type": "stream",
     "text": [
      "hella nice\n"
     ]
    }
   ],
   "source": [
    "// Make an if, else if, else statement where the else if statement triggers\n",
    "if (false) {\n",
    "\n",
    "    System.out.println(\"nice\");\n",
    "} else if (true){\n",
    "    System.out.println(\"hella nice\");\n",
    "    \n",
    "} else {\n",
    "    System.out.println(\"not nice\");\n",
    "    \n",
    "}"
   ]
  },
  {
   "cell_type": "code",
   "execution_count": 41,
   "metadata": {},
   "outputs": [
    {
     "name": "stdout",
     "output_type": "stream",
     "text": [
      "x marks the spot\n"
     ]
    }
   ],
   "source": [
    "// Make 2 variables and use them in an if else conditional\n",
    "boolean x= true;\n",
    "boolean y= true;\n",
    "if (x) {\n",
    "\n",
    "    System.out.println(\"x marks the spot\");\n",
    "} else {\n",
    "    System.out.println(\"no treasure\");\n",
    "    \n",
    "}"
   ]
  },
  {
   "cell_type": "code",
   "execution_count": 39,
   "metadata": {},
   "outputs": [
    {
     "name": "stdout",
     "output_type": "stream",
     "text": [
      "you have croque monsieur\n"
     ]
    }
   ],
   "source": [
    "// Make an if statement using 2 variables and an AND(&&) statement\n",
    "boolean ham = true;\n",
    "boolean cheese= true;\n",
    "if (ham && cheese) {\n",
    "    System.out.println(\"you have croque monsieur\");\n",
    "}"
   ]
  },
  {
   "cell_type": "code",
   "execution_count": 40,
   "metadata": {},
   "outputs": [
    {
     "name": "stdout",
     "output_type": "stream",
     "text": [
      "You have a boring or great sandwich\n"
     ]
    }
   ],
   "source": [
    "// Make an if statement using 2 variables and an OR(||) statement\n",
    "boolean ham = false;\n",
    "boolean BLT= true;\n",
    "if (ham || BLT) {\n",
    "    System.out.println(\"You have a boring or great sandwich\");\n",
    "}"
   ]
  }
 ],
 "metadata": {
  "kernelspec": {
   "display_name": "Java",
   "language": "java",
   "name": "java"
  },
  "language_info": {
   "codemirror_mode": "java",
   "file_extension": ".jshell",
   "mimetype": "text/x-java-source",
   "name": "Java",
   "pygments_lexer": "java",
   "version": "15.0.2+7-27"
  },
  "orig_nbformat": 2
 },
 "nbformat": 4,
 "nbformat_minor": 2
}